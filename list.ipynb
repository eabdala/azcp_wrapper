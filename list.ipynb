{
 "cells": [
  {
   "cell_type": "code",
   "execution_count": null,
   "metadata": {},
   "outputs": [],
   "source": [
    "from azcp_wrapper.azcp_client import AzClient\n",
    "from azcp_wrapper.azcp_utils import (\n",
    "    AzRemoteSASLocation,\n",
    "    AzLocalLocation,\n",
    "    AzCopyOptions,\n",
    "    AzSyncOptions,\n",
    ")"
   ]
  },
  {
   "cell_type": "code",
   "execution_count": null,
   "metadata": {},
   "outputs": [],
   "source": [
    "remote_location = AzRemoteSASLocation(\n",
    "    storage_account='arlandingstoragedesa',\n",
    "    container=\"landing-temis\",\n",
    "    blob_or_file = 'blob',\n",
    "    path=\"sesiones\",\n",
    "    sas_token=\"sp=racwdlme&st=2023-12-06T18:20:20Z&se=2100-01-01T02:20:20Z&spr=https&sv=2022-11-02&sr=c&sig=5POkIL6W3pVjslA26mbW%2BZYTr4SoPrs4VhCLIf9YKdM%3D\",\n",
    ")\n",
    "\n",
    "str(remote_location)\n"
   ]
  },
  {
   "cell_type": "code",
   "execution_count": null,
   "metadata": {},
   "outputs": [],
   "source": [
    "transfer_options = AzCopyOptions(\n",
    "    recursive=True,\n",
    "    # exclude_path=f\"test2.jpg;test_data_4;test_data_3/test3.jpg\",\n",
    "    put_md5=True, )\n",
    "\n",
    "transfer_options"
   ]
  },
  {
   "cell_type": "code",
   "execution_count": null,
   "metadata": {},
   "outputs": [],
   "source": [
    "\n",
    "az_client = AzClient(process_name='EL QUE ESTE POR CORRER')\n",
    "azlist = az_client.List(remote_location)"
   ]
  },
  {
   "cell_type": "code",
   "execution_count": null,
   "metadata": {},
   "outputs": [],
   "source": [
    "\n",
    "print(json.dumps(azlist.list_files, indent=4))\n"
   ]
  }
 ],
 "metadata": {
  "kernelspec": {
   "display_name": "base",
   "language": "python",
   "name": "python3"
  },
  "language_info": {
   "codemirror_mode": {
    "name": "ipython",
    "version": 3
   },
   "file_extension": ".py",
   "mimetype": "text/x-python",
   "name": "python",
   "nbconvert_exporter": "python",
   "pygments_lexer": "ipython3",
   "version": "3.9.13"
  }
 },
 "nbformat": 4,
 "nbformat_minor": 2
}
