{
 "cells": [
  {
   "cell_type": "code",
   "execution_count": null,
   "metadata": {},
   "outputs": [],
   "source": [
    "import requests\n",
    "from pathlib import Path\n",
    "import platform\n",
    "import urllib3\n",
    "from requests.packages.urllib3.exceptions import InsecureRequestWarning\n",
    "urllib3.disable_warnings(InsecureRequestWarning)\n",
    "from zipfile import ZipFile\n",
    "from io import BytesIO\n",
    "import os"
   ]
  },
  {
   "cell_type": "code",
   "execution_count": null,
   "metadata": {},
   "outputs": [],
   "source": [
    "def download_and_extract_zip(url, target_path):\n",
    "    response = requests.get(url, stream=True, verify=False)\n",
    "    \n",
    "    if response.status_code == 200:\n",
    "        data = BytesIO()\n",
    "        for chunk in response.iter_content(chunk_size=8192):\n",
    "            data.write(chunk)\n",
    "\n",
    "        with ZipFile(data, 'r') as zip_ref:\n",
    "            exe_files = [file for file in zip_ref.namelist() if os.path.splitext(file)[1] == '.exe']\n",
    "            if exe_files:\n",
    "                arch = exe_files[0]\n",
    "                name = os.path.basename(arch)\n",
    "                with zip_ref.open(arch) as myfile:\n",
    "                    with open(os.path.join(target_path, name), 'wb') as file:\n",
    "                        file.write(myfile.read())\n",
    "    else:\n",
    "        print(f\"Error: HTTP status code {response.status_code}. Unable to download the file.\")\n"
   ]
  },
  {
   "cell_type": "code",
   "execution_count": null,
   "metadata": {},
   "outputs": [],
   "source": [
    "binary_name = None\n",
    "\n",
    "if platform.system() == 'Darwin':\n",
    "    binary_name = 'https://aka.ms/downloadazcopy-v10-mac'\n",
    "elif platform.system() == 'Windows':\n",
    "    binary_name = 'https://aka.ms/downloadazcopy-v10-windows'\n",
    "elif platform.system() == 'Linux':\n",
    "    if platform.machine() == 'x86_64':\n",
    "        binary_name = 'https://aka.ms/downloadazcopy-v10-linux'\n",
    "    elif platform.machine() == 'aarch64':\n",
    "        binary_name = 'https://aka.ms/downloadazcopy-v10-linux-arm64'\n",
    "\n",
    "\n",
    "if binary_name:\n",
    "            download_and_extract_zip(f'{binary_name}', Path('.'))\n",
    "            print(f\"Downloaded url: {binary_name}, system: {platform.system()}, machine: {platform.machine() }\")"
   ]
  },
  {
   "cell_type": "code",
   "execution_count": null,
   "metadata": {},
   "outputs": [],
   "source": [
    "from azcp_wrapper.logging_config import CopyLogger, NullLogger"
   ]
  },
  {
   "cell_type": "code",
   "execution_count": null,
   "metadata": {},
   "outputs": [],
   "source": [
    "run_name, run_log_directory, logger = CopyLogger('command_name').get_logger()\n",
    "logger.info(f\"Run name: {run_name}\")\n",
    "logger.info(f\"Run log directory: {run_log_directory}/{run_name}\")"
   ]
  },
  {
   "cell_type": "code",
   "execution_count": null,
   "metadata": {},
   "outputs": [],
   "source": [
    "logger = NullLogger('__name__')\n",
    "logger.info(\"Run name\")"
   ]
  },
  {
   "cell_type": "code",
   "execution_count": null,
   "metadata": {},
   "outputs": [],
   "source": [
    "logger.info(f\"Run name: {run_name}\")\n",
    "logger.info(f\"Run log directory: {run_log_directory}\")"
   ]
  },
  {
   "cell_type": "code",
   "execution_count": null,
   "metadata": {},
   "outputs": [],
   "source": [
    "from pathlib import Path\n",
    "import yaml\n",
    "import json\n",
    "def build_flags(options: dict):\n",
    "        config = {}  \n",
    "        config_path = Path(\"~/.azpype/copy_config.yaml\").expanduser() #Hardcoded for now\n",
    "        with open(config_path,'r') as f:\n",
    "            try:\n",
    "                config = yaml.safe_load(f)\n",
    "            except yaml.YAMLError as exc:\n",
    "                logger.info(exc)\n",
    "\n",
    "        # Delete keys with value of NULL\n",
    "        config = {k: v for k, v in config.items() if v != 'NULL'}\n",
    "            \n",
    "        if options is not None:\n",
    "            config.update(options)\n",
    "        logger.info(f\"\\nFlag Config: {json.dumps(config, indent=4)}\\n\")\n",
    "        return config\n",
    "build_flags({})"
   ]
  },
  {
   "cell_type": "code",
   "execution_count": null,
   "metadata": {},
   "outputs": [],
   "source": [
    "config_path = Path(\"~/.azpype/copy_config.yaml\").expanduser()\n",
    "with open(config_path,'r') as f:\n",
    "    try:\n",
    "        config = yaml.safe_load(f)\n",
    "    except yaml.YAMLError as exc:\n",
    "        logger.info(exc)\n",
    "config = {k: v for k, v in config.items() if v != 'NULL'}\n",
    "cmd_parts = []\n",
    "# for option, value in config.items():\n",
    "#     if isinstance(value, bool) and value:\n",
    "#         cmd_parts.append(f\"--{option}=true\")\n",
    "#     elif value is not None:\n",
    "#         cmd_parts.append(f\"--{option}={value}\")\n",
    "# cmd_parts\n",
    "config"
   ]
  },
  {
   "cell_type": "code",
   "execution_count": null,
   "metadata": {},
   "outputs": [],
   "source": [
    "for option, value in config.items():\n",
    "    if isinstance(value, bool) and value:\n",
    "        print('primero' ,option, value)\n",
    "        cmd_parts.append(f\"--{option}=true\")\n",
    "    elif value is not None:\n",
    "        print('segundo' ,option, value)\n",
    "        cmd_parts.append(f\"--{option}={value}\")"
   ]
  },
  {
   "cell_type": "code",
   "execution_count": null,
   "metadata": {},
   "outputs": [],
   "source": [
    "cmd_parts"
   ]
  },
  {
   "cell_type": "code",
   "execution_count": null,
   "metadata": {},
   "outputs": [],
   "source": [
    "from utils import  AzCopyOptions\n",
    "\n",
    "transfer_options = AzCopyOptions(\n",
    "    overwrite_existing='ifSourceNewer',\n",
    "    recursive=True,\n",
    "    # exclude_path=f\"test2.jpg;test_data_4;test_data_3/test3.jpg\",\n",
    "    put_md5=True,\n",
    "    \n",
    ")\n",
    "\n",
    "transfer_options.get_options_list()"
   ]
  },
  {
   "cell_type": "code",
   "execution_count": null,
   "metadata": {},
   "outputs": [],
   "source": [
    "[ 'self.exe_to_use',\n",
    "            \"cp\",\n",
    "] + transfer_options.get_options_list()"
   ]
  },
  {
   "cell_type": "code",
   "execution_count": null,
   "metadata": {},
   "outputs": [],
   "source": [
    "from typing import List, Annotated\n",
    "from typing_extensions import get_type_hints, get_args\n",
    "from dataclasses import dataclass\n",
    "\n",
    "@dataclass\n",
    "class Persona:\n",
    "    nombre: Annotated[str, \"Nombre de la persona\"] = 'juan'\n",
    "    edad: Annotated[int, \"Edad de la persona\"] = '30'\n",
    "\n",
    "# Crear una instancia de la clase Persona\n",
    "persona = Persona(nombre='j')\n",
    "\n",
    "\n",
    "# Utilizar `get_type_hints` para obtener las anotaciones de tipo\n",
    "type_hints = get_type_hints(Persona)\n",
    "type_hints\n",
    "# # Iterar sobre los atributos y sus anotaciones\n",
    "# for atributo, tipo in type_hints.items():\n",
    "#     # Utilizar `getattr` para obtener el valor del atributo\n",
    "#     valor_atributo = getattr(persona, atributo)\n",
    "    \n",
    "#     # Imprimir información sobre el atributo, su valor y su anotación\n",
    "#     print(f\"{atributo.capitalize()}: {valor_atributo} - Tipo: {tipo}\")"
   ]
  },
  {
   "cell_type": "code",
   "execution_count": null,
   "metadata": {},
   "outputs": [],
   "source": [
    "from dataclasses import dataclass, asdict\n",
    "from typing import List, TypeVar\n",
    "from typing_extensions import Annotated, Doc\n",
    "\n",
    "AppType = TypeVar(\"AppType\", bound=\"AzCopyOptions\")\n",
    "\n",
    "@dataclass\n",
    "class AzCopyOptions:\n",
    "\n",
    "    as_subdir: Annotated[bool, Doc(\"Places folder sources as subdirectories under the destination.\")] = None\n",
    "    force_if_read_only: Annotated[bool, Doc(\"Places folder sources as subdirectories under the destination.\")] = None\n",
    "    block_size_mb: Annotated[str, Doc(\"Use this block size (specified in MiB) when uploading to Azure Storage, and downloading from Azure Storage.\")] = None\n",
    "    check_length: Annotated[bool, Doc(\"Check the length of a file on the destination after the transfer.\")] = None\n",
    "    dry_run: Annotated[str, Doc(\"Prints the file paths that would be copied by this command.\")] = None\n",
    "    exclude_path: Annotated[str, Doc(\"Exclude these paths when copying. This option doesn't support wildcard characters (*). Checks relative path prefix.\")] = None\n",
    "    exclude_pattern: Annotated[str, Doc(\"Exclude these files when copying. This option supports wildcard characters (*).\")] = None\n",
    "    exclude_regex: Annotated[str, Doc(\"\")] = None\n",
    "    follow_symlinks: Annotated[str, Doc(\"\")] = None\n",
    "    include_after: Annotated[str, Doc(\"\")] = None\n",
    "    include_before: Annotated[str, Doc(\"\")] = None\n",
    "    include_path: Annotated[str, Doc(\"\")] = None\n",
    "    include_pattern: Annotated[str, Doc(\"\")] = None\n",
    "    include_regex: Annotated[str, Doc(\"\")] = None\n",
    "    log_level: Annotated[str, Doc(\"Define the log verbosity for the log file, available levels: INFO, WARNING, ERROR, and NONE.\")] = None\n",
    "    metadata: Annotated[str, Doc(\"Upload to Azure Storage with these key-value pairs as metadata.\") ]= None\n",
    "    overwrite: Annotated[str, Doc(\"\"\"# Overwrite the conflicting files and blobs at the destination if this flag is set to true.\n",
    "                                    # Possible values include 'true', 'false', 'prompt', and 'ifSourceNewer'.\n",
    "                                    # \"\"\")] = 'ifSourceNewer'\n",
    "    put_md5: Annotated[bool, Doc(\"Create an MD5 hash of each file, and save the hash as the Content-MD5 property of the destination blob or file.\")] = None\n",
    "    recursive: Annotated[bool, Doc(\"Look into subdirectories recursively when uploading from local file system.\")] = True\n",
    "\n",
    "    def get_options_list(self):\n",
    "        dict_conf = asdict(self)\n",
    "        config = {k.replace('_','-'): v for k, v in dict_conf.items() if v != 'NULL'}\n",
    "        cmd_parts = []\n",
    "        for option, value in config.items():\n",
    "            if isinstance(value, bool) and value:\n",
    "                cmd_parts.append(f\"--{option}=true\")\n",
    "            elif value is not None:\n",
    "                cmd_parts.append(f\"--{option}={value}\")\n",
    "        return cmd_parts\n",
    "\n",
    "# Crear una instancia de la clase Persona\n",
    "transfer_options = AzCopyOptions(put_md5=True)\n",
    "transfer_options.get_options_list()\n"
   ]
  },
  {
   "cell_type": "code",
   "execution_count": null,
   "metadata": {},
   "outputs": [],
   "source": [
    "persona\n"
   ]
  },
  {
   "cell_type": "code",
   "execution_count": null,
   "metadata": {},
   "outputs": [],
   "source": [
    "config = {k: v for k, v in persona1.__dict__.items() if v != 'NULL'}\n",
    "for option, value in config.items():\n",
    "    if isinstance(value, bool) and value:\n",
    "        print('primero' ,option, value)\n",
    "        cmd_parts.append(f\"--{option}=true\")\n",
    "    elif value is not None:\n",
    "        print('segundo' ,option, value)\n",
    "        cmd_parts.append(f\"--{option}={value}\")\n",
    "cmd_parts"
   ]
  },
  {
   "cell_type": "code",
   "execution_count": null,
   "metadata": {},
   "outputs": [],
   "source": [
    "perso"
   ]
  },
  {
   "cell_type": "code",
   "execution_count": null,
   "metadata": {},
   "outputs": [],
   "source": [
    "import os \n",
    "archivo_azcopy = Path(\"~/.azcp/azcopy.exe\").expanduser().exists()\n",
    "\n",
    "archivo_azcopy"
   ]
  },
  {
   "cell_type": "code",
   "execution_count": null,
   "metadata": {},
   "outputs": [],
   "source": [
    "ROOT_LOG_DIRECTORY = Path.cwd() / \"logs\"\n",
    "ROOT_LOG_DIRECTORY\n"
   ]
  },
  {
   "cell_type": "code",
   "execution_count": null,
   "metadata": {},
   "outputs": [],
   "source": [
    "from azcp_wrapper.azcp_client import AzClient\n",
    "from azcp_wrapper.azcp_utils import (\n",
    "    AzRemoteSASLocation,\n",
    "    AzLocalLocation,\n",
    "    AzCopyOptions,\n",
    "    AzSyncOptions,\n",
    ")\n",
    "import os\n",
    "local_location = AzLocalLocation(\n",
    "    path=\"C:\\\\Users\\\\eabdala\\\\Desktop\\\\pruebasftp\\\\\",\n",
    "    use_wildcard=False,\n",
    ")\n",
    "remote_location = AzRemoteSASLocation(\n",
    "    storage_account=\"arlandingstoragedesa\",\n",
    "    container=\"solicitudes-temis\",\n",
    "    blob_or_file = 'file',\n",
    "    path=\"reportes\",\n",
    "    sas_token=\"sv=2022-11-02&ss=f&srt=sco&sp=rwdlc&se=2100-01-01T02:59:59Z&st=2024-01-16T20:13:42Z&spr=https&sig=LxaXIgF8M1jruy5clPv2l%2BRLUWZ6%2Bx9iBAgI75UP0sU%3D\",\n",
    ")\n",
    "\n",
    "transfer_options = AzCopyOptions(\n",
    "    recursive=True,\n",
    "    # exclude_path=f\"test2.jpg;test_data_4;test_data_3/test3.jpg\",\n",
    "    put_md5=True, \n",
    "    \n",
    ")\n",
    "\n",
    "az_client = AzClient()\n",
    "\n",
    "azcp = az_client.copy(src=local_location, dest=remote_location, transfer_options=transfer_options)\n"
   ]
  },
  {
   "cell_type": "code",
   "execution_count": null,
   "metadata": {},
   "outputs": [
    {
     "ename": "",
     "evalue": "",
     "output_type": "error",
     "traceback": [
      "\u001b[1;31mLa ejecución de celdas con 'venv' requiere el paquete ipykernel.\n",
      "\u001b[1;31mEjecute el siguiente comando para instalar 'ipykernel' en el entorno de Python. comando \n",
      "\u001b[1;31m: 'c:/Users/eabdala/Desktop/azcp_wrapper/venv/Scripts/python.exe -m pip install ipykernel -U --force-reinstall'"
     ]
    }
   ],
   "source": [
    "from setuptools import setup, find_packages\n",
    "\n",
    "find_packages()"
   ]
  },
  {
   "cell_type": "code",
   "execution_count": 7,
   "metadata": {},
   "outputs": [
    {
     "name": "stdout",
     "output_type": "stream",
     "text": [
      "__main__\n"
     ]
    }
   ],
   "source": [
    "print(__name__)"
   ]
  }
 ],
 "metadata": {
  "kernelspec": {
   "display_name": "venv",
   "language": "python",
   "name": "python3"
  },
  "language_info": {
   "codemirror_mode": {
    "name": "ipython",
    "version": 3
   },
   "file_extension": ".py",
   "mimetype": "text/x-python",
   "name": "python",
   "nbconvert_exporter": "python",
   "pygments_lexer": "ipython3",
   "version": "3.9.13"
  }
 },
 "nbformat": 4,
 "nbformat_minor": 2
}
